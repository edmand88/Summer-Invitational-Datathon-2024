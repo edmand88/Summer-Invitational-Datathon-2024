{
 "cells": [
  {
   "cell_type": "code",
   "execution_count": 29,
   "id": "1a5defce-d6e2-440b-86a9-e0472937886d",
   "metadata": {},
   "outputs": [],
   "source": [
    "# How do changes in employment rates correlate with processed food consumption?\n",
    "\n",
    "# consumed = (percentage of processed meat) * (1 - percent waste) * (produced - stored)"
   ]
  },
  {
   "cell_type": "code",
   "execution_count": 2,
   "id": "5e24f5ef-1319-4485-bbfa-6deb417a2608",
   "metadata": {},
   "outputs": [],
   "source": [
    "import numpy as np\n",
    "import pandas as pd\n",
    "import matplotlib.pyplot as plt\n",
    "\n",
    "np.random.seed(42)"
   ]
  },
  {
   "cell_type": "code",
   "execution_count": 3,
   "id": "57bf5e72-8c22-469f-a4f0-64cd4720f6b6",
   "metadata": {},
   "outputs": [],
   "source": [
    "meat_stats_cold_storage = pd.read_csv(\"Datathon Data/Meat_Stats_Cold_Storage.csv\")\n",
    "\n",
    "meat_stats_meat_production = pd.read_csv(\"Datathon Data/Meat_Stats_Meat_Production.csv\")"
   ]
  },
  {
   "cell_type": "code",
   "execution_count": 4,
   "id": "4cd3cd48-ddf1-4c05-b12f-6df8e10237e1",
   "metadata": {},
   "outputs": [
    {
     "name": "stdout",
     "output_type": "stream",
     "text": [
      "          Date  Year  Month            Unit       Animal  Weight Type_Of_Meat\n",
      "0     Dec-2023  2023     12  Million Pounds         Beef  457.41     Red Meat\n",
      "1     Nov-2023  2023     11  Million Pounds         Beef  445.67     Red Meat\n",
      "2     Oct-2023  2023     10  Million Pounds         Beef  420.85     Red Meat\n",
      "3     Sep-2023  2023      9  Million Pounds         Beef  395.40     Red Meat\n",
      "4     Aug-2023  2023      8  Million Pounds         Beef  410.46     Red Meat\n",
      "...        ...   ...    ...             ...          ...     ...          ...\n",
      "3931  May-1983  1983      5  Million Pounds  Frozen Eggs     NaN      Poultry\n",
      "3932  Apr-1983  1983      4  Million Pounds  Frozen Eggs     NaN      Poultry\n",
      "3933  Mar-1983  1983      3  Million Pounds  Frozen Eggs     NaN      Poultry\n",
      "3934  Feb-1983  1983      2  Million Pounds  Frozen Eggs     NaN      Poultry\n",
      "3935  Jan-1983  1983      1  Million Pounds  Frozen Eggs     NaN      Poultry\n",
      "\n",
      "[3936 rows x 7 columns]\n"
     ]
    }
   ],
   "source": [
    "print(meat_stats_cold_storage)"
   ]
  },
  {
   "cell_type": "code",
   "execution_count": 5,
   "id": "3ccfa611-1e0a-4d53-93b6-873251ffb1d8",
   "metadata": {},
   "outputs": [
    {
     "name": "stdout",
     "output_type": "stream",
     "text": [
      "<class 'pandas.core.frame.DataFrame'>\n",
      "RangeIndex: 3936 entries, 0 to 3935\n",
      "Data columns (total 7 columns):\n",
      " #   Column        Non-Null Count  Dtype  \n",
      "---  ------        --------------  -----  \n",
      " 0   Date          3936 non-null   object \n",
      " 1   Year          3936 non-null   int64  \n",
      " 2   Month         3936 non-null   int64  \n",
      " 3   Unit          3936 non-null   object \n",
      " 4   Animal        3936 non-null   object \n",
      " 5   Weight        3606 non-null   float64\n",
      " 6   Type_Of_Meat  3936 non-null   object \n",
      "dtypes: float64(1), int64(2), object(4)\n",
      "memory usage: 215.4+ KB\n",
      "None\n"
     ]
    }
   ],
   "source": [
    "print(meat_stats_cold_storage.info())"
   ]
  },
  {
   "cell_type": "code",
   "execution_count": 6,
   "id": "3185a268-b41d-46a5-9dc4-ced1755241e7",
   "metadata": {},
   "outputs": [
    {
     "name": "stdout",
     "output_type": "stream",
     "text": [
      "['Dec-2023' 'Nov-2023' 'Oct-2023' 'Sep-2023' 'Aug-2023' 'Jul-2023'\n",
      " 'Jun-2023' 'May-2023' 'Apr-2023' 'Mar-2023' 'Feb-2023' 'Jan-2023'\n",
      " 'Dec-2022' 'Nov-2022' 'Oct-2022' 'Sep-2022' 'Aug-2022' 'Jul-2022'\n",
      " 'Jun-2022' 'May-2022' 'Apr-2022' 'Mar-2022' 'Feb-2022' 'Jan-2022'\n",
      " 'Dec-2021' 'Nov-2021' 'Oct-2021' 'Sep-2021' 'Aug-2021' 'Jul-2021'\n",
      " 'Jun-2021' 'May-2021' 'Apr-2021' 'Mar-2021' 'Feb-2021' 'Jan-2021'\n",
      " 'Dec-2020' 'Nov-2020' 'Oct-2020' 'Sep-2020' 'Aug-2020' 'Jul-2020'\n",
      " 'Jun-2020' 'May-2020' 'Apr-2020' 'Mar-2020' 'Feb-2020' 'Jan-2020'\n",
      " 'Dec-2019' 'Nov-2019' 'Oct-2019' 'Sep-2019' 'Aug-2019' 'Jul-2019'\n",
      " 'Jun-2019' 'May-2019' 'Apr-2019' 'Mar-2019' 'Feb-2019' 'Jan-2019'\n",
      " 'Dec-2018' 'Nov-2018' 'Oct-2018' 'Sep-2018' 'Aug-2018' 'Jul-2018'\n",
      " 'Jun-2018' 'May-2018' 'Apr-2018' 'Mar-2018' 'Feb-2018' 'Jan-2018'\n",
      " 'Dec-2017' 'Nov-2017' 'Oct-2017' 'Sep-2017' 'Aug-2017' 'Jul-2017'\n",
      " 'Jun-2017' 'May-2017' 'Apr-2017' 'Mar-2017' 'Feb-2017' 'Jan-2017'\n",
      " 'Dec-2016' 'Nov-2016' 'Oct-2016' 'Sep-2016' 'Aug-2016' 'Jul-2016'\n",
      " 'Jun-2016' 'May-2016' 'Apr-2016' 'Mar-2016' 'Feb-2016' 'Jan-2016'\n",
      " 'Dec-2015' 'Nov-2015' 'Oct-2015' 'Sep-2015' 'Aug-2015' 'Jul-2015'\n",
      " 'Jun-2015' 'May-2015' 'Apr-2015' 'Mar-2015' 'Feb-2015' 'Jan-2015'\n",
      " 'Dec-2014' 'Nov-2014' 'Oct-2014' 'Sep-2014' 'Aug-2014' 'Jul-2014'\n",
      " 'Jun-2014' 'May-2014' 'Apr-2014' 'Mar-2014' 'Feb-2014' 'Jan-2014'\n",
      " 'Dec-2013' 'Nov-2013' 'Oct-2013' 'Sep-2013' 'Aug-2013' 'Jul-2013'\n",
      " 'Jun-2013' 'May-2013' 'Apr-2013' 'Mar-2013' 'Feb-2013' 'Jan-2013'\n",
      " 'Dec-2012' 'Nov-2012' 'Oct-2012' 'Sep-2012' 'Aug-2012' 'Jul-2012'\n",
      " 'Jun-2012' 'May-2012' 'Apr-2012' 'Mar-2012' 'Feb-2012' 'Jan-2012'\n",
      " 'Dec-2011' 'Nov-2011' 'Oct-2011' 'Sep-2011' 'Aug-2011' 'Jul-2011'\n",
      " 'Jun-2011' 'May-2011' 'Apr-2011' 'Mar-2011' 'Feb-2011' 'Jan-2011'\n",
      " 'Dec-2010' 'Nov-2010' 'Oct-2010' 'Sep-2010' 'Aug-2010' 'Jul-2010'\n",
      " 'Jun-2010' 'May-2010' 'Apr-2010' 'Mar-2010' 'Feb-2010' 'Jan-2010'\n",
      " 'Dec-2009' 'Nov-2009' 'Oct-2009' 'Sep-2009' 'Aug-2009' 'Jul-2009'\n",
      " 'Jun-2009' 'May-2009' 'Apr-2009' 'Mar-2009' 'Feb-2009' 'Jan-2009'\n",
      " 'Dec-2008' 'Nov-2008' 'Oct-2008' 'Sep-2008' 'Aug-2008' 'Jul-2008'\n",
      " 'Jun-2008' 'May-2008' 'Apr-2008' 'Mar-2008' 'Feb-2008' 'Jan-2008'\n",
      " 'Dec-2007' 'Nov-2007' 'Oct-2007' 'Sep-2007' 'Aug-2007' 'Jul-2007'\n",
      " 'Jun-2007' 'May-2007' 'Apr-2007' 'Mar-2007' 'Feb-2007' 'Jan-2007'\n",
      " 'Dec-2006' 'Nov-2006' 'Oct-2006' 'Sep-2006' 'Aug-2006' 'Jul-2006'\n",
      " 'Jun-2006' 'May-2006' 'Apr-2006' 'Mar-2006' 'Feb-2006' 'Jan-2006'\n",
      " 'Dec-2005' 'Nov-2005' 'Oct-2005' 'Sep-2005' 'Aug-2005' 'Jul-2005'\n",
      " 'Jun-2005' 'May-2005' 'Apr-2005' 'Mar-2005' 'Feb-2005' 'Jan-2005'\n",
      " 'Dec-2004' 'Nov-2004' 'Oct-2004' 'Sep-2004' 'Aug-2004' 'Jul-2004'\n",
      " 'Jun-2004' 'May-2004' 'Apr-2004' 'Mar-2004' 'Feb-2004' 'Jan-2004'\n",
      " 'Dec-2003' 'Nov-2003' 'Oct-2003' 'Sep-2003' 'Aug-2003' 'Jul-2003'\n",
      " 'Jun-2003' 'May-2003' 'Apr-2003' 'Mar-2003' 'Feb-2003' 'Jan-2003'\n",
      " 'Dec-2002' 'Nov-2002' 'Oct-2002' 'Sep-2002' 'Aug-2002' 'Jul-2002'\n",
      " 'Jun-2002' 'May-2002' 'Apr-2002' 'Mar-2002' 'Feb-2002' 'Jan-2002'\n",
      " 'Dec-2001' 'Nov-2001' 'Oct-2001' 'Sep-2001' 'Aug-2001' 'Jul-2001'\n",
      " 'Jun-2001' 'May-2001' 'Apr-2001' 'Mar-2001' 'Feb-2001' 'Jan-2001'\n",
      " 'Dec-2000' 'Nov-2000' 'Oct-2000' 'Sep-2000' 'Aug-2000' 'Jul-2000'\n",
      " 'Jun-2000' 'May-2000' 'Apr-2000' 'Mar-2000' 'Feb-2000' 'Jan-2000'\n",
      " 'Dec-1999' 'Nov-1999' 'Oct-1999' 'Sep-1999' 'Aug-1999' 'Jul-1999'\n",
      " 'Jun-1999' 'May-1999' 'Apr-1999' 'Mar-1999' 'Feb-1999' 'Jan-1999'\n",
      " 'Dec-1998' 'Nov-1998' 'Oct-1998' 'Sep-1998' 'Aug-1998' 'Jul-1998'\n",
      " 'Jun-1998' 'May-1998' 'Apr-1998' 'Mar-1998' 'Feb-1998' 'Jan-1998'\n",
      " 'Dec-1997' 'Nov-1997' 'Oct-1997' 'Sep-1997' 'Aug-1997' 'Jul-1997'\n",
      " 'Jun-1997' 'May-1997' 'Apr-1997' 'Mar-1997' 'Feb-1997' 'Jan-1997'\n",
      " 'Dec-1996' 'Nov-1996' 'Oct-1996' 'Sep-1996' 'Aug-1996' 'Jul-1996'\n",
      " 'Jun-1996' 'May-1996' 'Apr-1996' 'Mar-1996' 'Feb-1996' 'Jan-1996'\n",
      " 'Dec-1995' 'Nov-1995' 'Oct-1995' 'Sep-1995' 'Aug-1995' 'Jul-1995'\n",
      " 'Jun-1995' 'May-1995' 'Apr-1995' 'Mar-1995' 'Feb-1995' 'Jan-1995'\n",
      " 'Dec-1994' 'Nov-1994' 'Oct-1994' 'Sep-1994' 'Aug-1994' 'Jul-1994'\n",
      " 'Jun-1994' 'May-1994' 'Apr-1994' 'Mar-1994' 'Feb-1994' 'Jan-1994'\n",
      " 'Dec-1993' 'Nov-1993' 'Oct-1993' 'Sep-1993' 'Aug-1993' 'Jul-1993'\n",
      " 'Jun-1993' 'May-1993' 'Apr-1993' 'Mar-1993' 'Feb-1993' 'Jan-1993'\n",
      " 'Dec-1992' 'Nov-1992' 'Oct-1992' 'Sep-1992' 'Aug-1992' 'Jul-1992'\n",
      " 'Jun-1992' 'May-1992' 'Apr-1992' 'Mar-1992' 'Feb-1992' 'Jan-1992'\n",
      " 'Dec-1991' 'Nov-1991' 'Oct-1991' 'Sep-1991' 'Aug-1991' 'Jul-1991'\n",
      " 'Jun-1991' 'May-1991' 'Apr-1991' 'Mar-1991' 'Feb-1991' 'Jan-1991'\n",
      " 'Dec-1990' 'Nov-1990' 'Oct-1990' 'Sep-1990' 'Aug-1990' 'Jul-1990'\n",
      " 'Jun-1990' 'May-1990' 'Apr-1990' 'Mar-1990' 'Feb-1990' 'Jan-1990'\n",
      " 'Dec-1989' 'Nov-1989' 'Oct-1989' 'Sep-1989' 'Aug-1989' 'Jul-1989'\n",
      " 'Jun-1989' 'May-1989' 'Apr-1989' 'Mar-1989' 'Feb-1989' 'Jan-1989'\n",
      " 'Dec-1988' 'Nov-1988' 'Oct-1988' 'Sep-1988' 'Aug-1988' 'Jul-1988'\n",
      " 'Jun-1988' 'May-1988' 'Apr-1988' 'Mar-1988' 'Feb-1988' 'Jan-1988'\n",
      " 'Dec-1987' 'Nov-1987' 'Oct-1987' 'Sep-1987' 'Aug-1987' 'Jul-1987'\n",
      " 'Jun-1987' 'May-1987' 'Apr-1987' 'Mar-1987' 'Feb-1987' 'Jan-1987'\n",
      " 'Dec-1986' 'Nov-1986' 'Oct-1986' 'Sep-1986' 'Aug-1986' 'Jul-1986'\n",
      " 'Jun-1986' 'May-1986' 'Apr-1986' 'Mar-1986' 'Feb-1986' 'Jan-1986'\n",
      " 'Dec-1985' 'Nov-1985' 'Oct-1985' 'Sep-1985' 'Aug-1985' 'Jul-1985'\n",
      " 'Jun-1985' 'May-1985' 'Apr-1985' 'Mar-1985' 'Feb-1985' 'Jan-1985'\n",
      " 'Dec-1984' 'Nov-1984' 'Oct-1984' 'Sep-1984' 'Aug-1984' 'Jul-1984'\n",
      " 'Jun-1984' 'May-1984' 'Apr-1984' 'Mar-1984' 'Feb-1984' 'Jan-1984'\n",
      " 'Dec-1983' 'Nov-1983' 'Oct-1983' 'Sep-1983' 'Aug-1983' 'Jul-1983'\n",
      " 'Jun-1983' 'May-1983' 'Apr-1983' 'Mar-1983' 'Feb-1983' 'Jan-1983']\n",
      "Date\n",
      "Dec-2023    8\n",
      "Oct-1995    8\n",
      "Dec-1995    8\n",
      "Jan-1996    8\n",
      "Feb-1996    8\n",
      "           ..\n",
      "Sep-2010    8\n",
      "Oct-2010    8\n",
      "Nov-2010    8\n",
      "Dec-2010    8\n",
      "Jan-1983    8\n",
      "Name: count, Length: 492, dtype: int64\n",
      "[2023 2022 2021 2020 2019 2018 2017 2016 2015 2014 2013 2012 2011 2010\n",
      " 2009 2008 2007 2006 2005 2004 2003 2002 2001 2000 1999 1998 1997 1996\n",
      " 1995 1994 1993 1992 1991 1990 1989 1988 1987 1986 1985 1984 1983]\n",
      "[12 11 10  9  8  7  6  5  4  3  2  1]\n",
      "['Million Pounds']\n",
      "['Beef' 'Veal' 'Pork' 'Lamb and Mutton' 'Broiler' 'Other Chicken' 'Turkey'\n",
      " 'Frozen Eggs']\n",
      "['Red Meat' 'Poultry']\n"
     ]
    }
   ],
   "source": [
    "date_values = meat_stats_cold_storage['Date'].unique()\n",
    "print(date_values)\n",
    "\n",
    "date_count = meat_stats_cold_storage['Date'].value_counts()\n",
    "print(date_count)\n",
    "\n",
    "year_values = meat_stats_cold_storage['Year'].unique()\n",
    "print(year_values)\n",
    "\n",
    "month_values = meat_stats_cold_storage['Month'].unique()\n",
    "print(month_values)\n",
    "\n",
    "unit_values = meat_stats_cold_storage['Unit'].unique()\n",
    "print(unit_values)\n",
    "\n",
    "animal_values = meat_stats_cold_storage['Animal'].unique()\n",
    "print(animal_values)\n",
    "\n",
    "typeOfMeat_values = meat_stats_cold_storage['Type_Of_Meat'].unique()\n",
    "print(typeOfMeat_values)"
   ]
  },
  {
   "cell_type": "code",
   "execution_count": 7,
   "id": "803b1243-7f8c-40e7-854c-8f1be55b09ed",
   "metadata": {},
   "outputs": [],
   "source": [
    "egg_rows = meat_stats_cold_storage['Animal'] == 'Frozen Eggs'\n",
    "meat_stats_cold_storage_clean = meat_stats_cold_storage[~egg_rows]"
   ]
  },
  {
   "cell_type": "code",
   "execution_count": 8,
   "id": "3ebaf982-3e85-432f-92ea-1fc9a5723b25",
   "metadata": {},
   "outputs": [
    {
     "name": "stdout",
     "output_type": "stream",
     "text": [
      "['Beef' 'Veal' 'Pork' 'Lamb and Mutton' 'Broiler' 'Other Chicken' 'Turkey']\n"
     ]
    }
   ],
   "source": [
    "animal_values2 = meat_stats_cold_storage_clean['Animal'].unique()\n",
    "print(animal_values2)"
   ]
  },
  {
   "cell_type": "code",
   "execution_count": 9,
   "id": "3e1d6de5-6715-4f69-849a-482935aa7723",
   "metadata": {},
   "outputs": [
    {
     "name": "stdout",
     "output_type": "stream",
     "text": [
      "          Date  Year  Month            Unit  Animal  Weight Type_Of_Meat\n",
      "0     Dec-2023  2023     12  Million Pounds    Beef  457.41     Red Meat\n",
      "1     Nov-2023  2023     11  Million Pounds    Beef  445.67     Red Meat\n",
      "2     Oct-2023  2023     10  Million Pounds    Beef  420.85     Red Meat\n",
      "3     Sep-2023  2023      9  Million Pounds    Beef  395.40     Red Meat\n",
      "4     Aug-2023  2023      8  Million Pounds    Beef  410.46     Red Meat\n",
      "...        ...   ...    ...             ...     ...     ...          ...\n",
      "3194  Oct-2003  2003     10  Million Pounds  Turkey  647.54      Poultry\n",
      "3195  Sep-2003  2003      9  Million Pounds  Turkey  706.50      Poultry\n",
      "3196  Aug-2003  2003      8  Million Pounds  Turkey  722.54      Poultry\n",
      "3197  Jul-2003  2003      7  Million Pounds  Turkey  718.21      Poultry\n",
      "3198  Jun-2003  2003      6  Million Pounds  Turkey  658.84      Poultry\n",
      "\n",
      "[1729 rows x 7 columns]\n"
     ]
    }
   ],
   "source": [
    "incomplete_date_cold_storage = meat_stats_cold_storage_clean[meat_stats_cold_storage_clean['Weight'].isna()]\n",
    "\n",
    "cold_storage_dates_to_remove = incomplete_date_cold_storage['Date'].unique()\n",
    "\n",
    "meat_stats_cold_storage_clean = meat_stats_cold_storage_clean[~meat_stats_cold_storage_clean['Date'].isin(cold_storage_dates_to_remove)]\n",
    "\n",
    "print(meat_stats_cold_storage_clean)"
   ]
  },
  {
   "cell_type": "code",
   "execution_count": 10,
   "id": "67bd6494-2b95-49f9-b19c-c41af6f8d532",
   "metadata": {},
   "outputs": [],
   "source": [
    "meat_stats_cold_storage_clean = meat_stats_cold_storage_clean.drop(columns=['Year', 'Month'])"
   ]
  },
  {
   "cell_type": "code",
   "execution_count": 11,
   "id": "113f10d6-30ea-433a-bddb-2c7c63ab142e",
   "metadata": {},
   "outputs": [
    {
     "name": "stdout",
     "output_type": "stream",
     "text": [
      "<class 'pandas.core.frame.DataFrame'>\n",
      "Index: 1729 entries, 0 to 3198\n",
      "Data columns (total 5 columns):\n",
      " #   Column        Non-Null Count  Dtype  \n",
      "---  ------        --------------  -----  \n",
      " 0   Date          1729 non-null   object \n",
      " 1   Unit          1729 non-null   object \n",
      " 2   Animal        1729 non-null   object \n",
      " 3   Weight        1729 non-null   float64\n",
      " 4   Type_Of_Meat  1729 non-null   object \n",
      "dtypes: float64(1), object(4)\n",
      "memory usage: 81.0+ KB\n",
      "None\n"
     ]
    }
   ],
   "source": [
    "print(meat_stats_cold_storage_clean.info())"
   ]
  },
  {
   "cell_type": "code",
   "execution_count": 12,
   "id": "db482b77-175c-4f19-b803-2f7e0899593f",
   "metadata": {},
   "outputs": [
    {
     "name": "stdout",
     "output_type": "stream",
     "text": [
      "Date\n",
      "Apr-2004    1964.16\n",
      "Apr-2005    1997.78\n",
      "Apr-2006    2196.89\n",
      "Apr-2007    1877.52\n",
      "Apr-2008    2283.46\n",
      "             ...   \n",
      "Sep-2019    2549.93\n",
      "Sep-2020    2348.98\n",
      "Sep-2021    2008.75\n",
      "Sep-2022    2323.11\n",
      "Sep-2023    2141.54\n",
      "Name: Weight, Length: 247, dtype: float64\n"
     ]
    }
   ],
   "source": [
    "meat_stats_cold_storage_clean = meat_stats_cold_storage_clean.groupby('Date')['Weight'].sum()\n",
    "\n",
    "print(meat_stats_cold_storage_clean)"
   ]
  },
  {
   "cell_type": "code",
   "execution_count": 13,
   "id": "1bcc938a-f5fd-4a39-b207-8a9cf92dd99b",
   "metadata": {},
   "outputs": [
    {
     "name": "stdout",
     "output_type": "stream",
     "text": [
      "<class 'pandas.core.series.Series'>\n",
      "Index: 247 entries, Apr-2004 to Sep-2023\n",
      "Series name: Weight\n",
      "Non-Null Count  Dtype  \n",
      "--------------  -----  \n",
      "247 non-null    float64\n",
      "dtypes: float64(1)\n",
      "memory usage: 3.9+ KB\n",
      "None\n"
     ]
    }
   ],
   "source": [
    "print(meat_stats_cold_storage_clean.info())"
   ]
  },
  {
   "cell_type": "code",
   "execution_count": 14,
   "id": "e986669a-44c9-4042-923c-328e4518a806",
   "metadata": {},
   "outputs": [
    {
     "name": "stdout",
     "output_type": "stream",
     "text": [
      "           Date  Year  Month            Unit Production  Animal  \\\n",
      "0      Dec-2023  2023     12  Million Pounds   2,189.80    Beef   \n",
      "1      Nov-2023  2023     11  Million Pounds   2,280.90    Beef   \n",
      "2      Oct-2023  2023     10  Million Pounds   2,340.90    Beef   \n",
      "3      Sep-2023  2023      9  Million Pounds   2,149.40    Beef   \n",
      "4      Aug-2023  2023      8  Million Pounds   2,363.50    Beef   \n",
      "...         ...   ...    ...             ...        ...     ...   \n",
      "13590  May-1921  1921      5  Million Pounds        NaN  Turkey   \n",
      "13591  Apr-1921  1921      4  Million Pounds        NaN  Turkey   \n",
      "13592  Mar-1921  1921      3  Million Pounds        NaN  Turkey   \n",
      "13593  Feb-1921  1921      2  Million Pounds        NaN  Turkey   \n",
      "13594  Jan-1921  1921      1  Million Pounds        NaN  Turkey   \n",
      "\n",
      "      Commercial or Federally Inspected Type of Meat  \n",
      "0                            Commercial     Red Meat  \n",
      "1                            Commercial     Red Meat  \n",
      "2                            Commercial     Red Meat  \n",
      "3                            Commercial     Red Meat  \n",
      "4                            Commercial     Red Meat  \n",
      "...                                 ...          ...  \n",
      "13590               Federally Inspected      Poultry  \n",
      "13591               Federally Inspected      Poultry  \n",
      "13592               Federally Inspected      Poultry  \n",
      "13593               Federally Inspected      Poultry  \n",
      "13594               Federally Inspected      Poultry  \n",
      "\n",
      "[13595 rows x 8 columns]\n"
     ]
    }
   ],
   "source": [
    "print(meat_stats_meat_production)"
   ]
  },
  {
   "cell_type": "code",
   "execution_count": 15,
   "id": "29415c78-7a5c-4235-a7df-8f6226dd6778",
   "metadata": {},
   "outputs": [
    {
     "name": "stdout",
     "output_type": "stream",
     "text": [
      "<class 'pandas.core.frame.DataFrame'>\n",
      "RangeIndex: 13595 entries, 0 to 13594\n",
      "Data columns (total 8 columns):\n",
      " #   Column                             Non-Null Count  Dtype \n",
      "---  ------                             --------------  ----- \n",
      " 0   Date                               13595 non-null  object\n",
      " 1   Year                               13595 non-null  int64 \n",
      " 2   Month                              13595 non-null  int64 \n",
      " 3   Unit                               13595 non-null  object\n",
      " 4   Production                         9620 non-null   object\n",
      " 5   Animal                             13595 non-null  object\n",
      " 6   Commercial or Federally Inspected  13595 non-null  object\n",
      " 7   Type of Meat                       13595 non-null  object\n",
      "dtypes: int64(2), object(6)\n",
      "memory usage: 849.8+ KB\n",
      "None\n"
     ]
    }
   ],
   "source": [
    "print(meat_stats_meat_production.info())"
   ]
  },
  {
   "cell_type": "code",
   "execution_count": 16,
   "id": "582bc419-418b-4e53-9859-bc7492eea464",
   "metadata": {},
   "outputs": [
    {
     "name": "stdout",
     "output_type": "stream",
     "text": [
      "['Dec-2023' 'Nov-2023' 'Oct-2023' ... 'Mar-1921' 'Feb-1921' 'Jan-1921']\n",
      "Date\n",
      "Dec-2023    11\n",
      "Jun-1955    11\n",
      "Nov-1954    11\n",
      "Dec-1954    11\n",
      "Jan-1955    11\n",
      "            ..\n",
      "Oct-1989    11\n",
      "Nov-1989    11\n",
      "Dec-1989    11\n",
      "Jan-1990    11\n",
      "Jan-1921    10\n",
      "Name: count, Length: 1236, dtype: int64\n",
      "[2023 2022 2021 2020 2019 2018 2017 2016 2015 2014 2013 2012 2011 2010\n",
      " 2009 2008 2007 2006 2005 2004 2003 2002 2001 2000 1999 1998 1997 1996\n",
      " 1995 1994 1993 1992 1991 1990 1989 1988 1987 1986 1985 1984 1983 1982\n",
      " 1981 1980 1979 1978 1977 1976 1975 1974 1973 1972 1971 1970 1969 1968\n",
      " 1967 1966 1965 1964 1963 1962 1961 1960 1959 1958 1957 1956 1955 1954\n",
      " 1953 1952 1951 1950 1949 1948 1947 1946 1945 1944 1943 1942 1941 1940\n",
      " 1939 1938 1937 1936 1935 1934 1933 1932 1931 1930 1929 1928 1927 1926\n",
      " 1925 1924 1923 1922 1921]\n",
      "[12 11 10  9  8  7  6  5  4  3  2  1]\n",
      "['Million Pounds']\n",
      "['Beef' 'Veal' 'Pork' 'Lamb and Mutton' 'Broilers' 'Other Chicken'\n",
      " 'Turkey']\n",
      "['Red Meat' 'Poultry']\n"
     ]
    }
   ],
   "source": [
    "date2_values = meat_stats_meat_production['Date'].unique()\n",
    "print(date2_values)\n",
    "\n",
    "date2_count = meat_stats_meat_production['Date'].value_counts()\n",
    "print(date2_count)\n",
    "\n",
    "year2_values = meat_stats_meat_production['Year'].unique()\n",
    "print(year2_values)\n",
    "\n",
    "month2_values = meat_stats_meat_production['Month'].unique()\n",
    "print(month2_values)\n",
    "\n",
    "unit2_values = meat_stats_meat_production['Unit'].unique()\n",
    "print(unit2_values)\n",
    "\n",
    "animal2_values = meat_stats_meat_production['Animal'].unique()\n",
    "print(animal2_values)\n",
    "\n",
    "typeOfMeat2_values = meat_stats_meat_production['Type of Meat'].unique()\n",
    "print(typeOfMeat2_values)"
   ]
  },
  {
   "cell_type": "code",
   "execution_count": 17,
   "id": "0b7f3e76-af5b-4a68-b316-779025d76104",
   "metadata": {},
   "outputs": [
    {
     "name": "stdout",
     "output_type": "stream",
     "text": [
      "           Date  Year  Month            Unit Production  Animal  \\\n",
      "0      Dec-2023  2023     12  Million Pounds   2,189.80    Beef   \n",
      "1      Nov-2023  2023     11  Million Pounds   2,280.90    Beef   \n",
      "2      Oct-2023  2023     10  Million Pounds   2,340.90    Beef   \n",
      "3      Sep-2023  2023      9  Million Pounds   2,149.40    Beef   \n",
      "4      Aug-2023  2023      8  Million Pounds   2,363.50    Beef   \n",
      "...         ...   ...    ...             ...        ...     ...   \n",
      "12630  May-2001  2001      5  Million Pounds      428.8  Turkey   \n",
      "12631  Apr-2001  2001      4  Million Pounds        462  Turkey   \n",
      "12632  Mar-2001  2001      3  Million Pounds      409.3  Turkey   \n",
      "12633  Feb-2001  2001      2  Million Pounds      461.2  Turkey   \n",
      "12634  Jan-2001  2001      1  Million Pounds      403.4  Turkey   \n",
      "\n",
      "      Commercial or Federally Inspected Type of Meat  \n",
      "0                            Commercial     Red Meat  \n",
      "1                            Commercial     Red Meat  \n",
      "2                            Commercial     Red Meat  \n",
      "3                            Commercial     Red Meat  \n",
      "4                            Commercial     Red Meat  \n",
      "...                                 ...          ...  \n",
      "12630               Federally Inspected      Poultry  \n",
      "12631               Federally Inspected      Poultry  \n",
      "12632               Federally Inspected      Poultry  \n",
      "12633               Federally Inspected      Poultry  \n",
      "12634               Federally Inspected      Poultry  \n",
      "\n",
      "[3036 rows x 8 columns]\n"
     ]
    }
   ],
   "source": [
    "incomplete_date_meat_production = meat_stats_meat_production[meat_stats_meat_production['Production'].isna()]\n",
    "\n",
    "meat_production_dates_to_remove = incomplete_date_meat_production['Date'].unique()\n",
    "\n",
    "meat_stats_meat_production_clean = meat_stats_meat_production[~meat_stats_meat_production['Date'].isin(meat_production_dates_to_remove)]\n",
    "\n",
    "print(meat_stats_meat_production_clean)"
   ]
  },
  {
   "cell_type": "code",
   "execution_count": 18,
   "id": "8f8f1a80-7205-439f-a083-09befdb56b35",
   "metadata": {},
   "outputs": [],
   "source": [
    "meat_stats_meat_production_clean = meat_stats_meat_production_clean.drop(columns=['Year', 'Month'])"
   ]
  },
  {
   "cell_type": "code",
   "execution_count": 19,
   "id": "9ec89778-4417-4ee8-88a4-e960d0f3909c",
   "metadata": {},
   "outputs": [
    {
     "name": "stdout",
     "output_type": "stream",
     "text": [
      "<class 'pandas.core.frame.DataFrame'>\n",
      "Index: 3036 entries, 0 to 12634\n",
      "Data columns (total 6 columns):\n",
      " #   Column                             Non-Null Count  Dtype \n",
      "---  ------                             --------------  ----- \n",
      " 0   Date                               3036 non-null   object\n",
      " 1   Unit                               3036 non-null   object\n",
      " 2   Production                         3036 non-null   object\n",
      " 3   Animal                             3036 non-null   object\n",
      " 4   Commercial or Federally Inspected  3036 non-null   object\n",
      " 5   Type of Meat                       3036 non-null   object\n",
      "dtypes: object(6)\n",
      "memory usage: 166.0+ KB\n",
      "None\n"
     ]
    }
   ],
   "source": [
    "print(meat_stats_meat_production_clean.info())"
   ]
  },
  {
   "cell_type": "code",
   "execution_count": 20,
   "id": "cb3878a6-772c-4666-af94-3133f1b9c446",
   "metadata": {},
   "outputs": [],
   "source": [
    "meat_stats_meat_production_clean['Production'] = meat_stats_meat_production_clean['Production'].str.replace(',', '').astype(float)"
   ]
  },
  {
   "cell_type": "code",
   "execution_count": 21,
   "id": "a3ac788d-ca5c-4b23-8ab2-6cf9186204e1",
   "metadata": {},
   "outputs": [
    {
     "name": "stdout",
     "output_type": "stream",
     "text": [
      "Date\n",
      "Apr-2001     9984.9\n",
      "Apr-2002    11000.5\n",
      "Apr-2003    10888.2\n",
      "Apr-2004    10709.7\n",
      "Apr-2005    10561.0\n",
      "             ...   \n",
      "Sep-2019    13073.2\n",
      "Sep-2020    13762.0\n",
      "Sep-2021    13556.4\n",
      "Sep-2022    13777.1\n",
      "Sep-2023    12994.7\n",
      "Name: Production, Length: 276, dtype: float64\n"
     ]
    }
   ],
   "source": [
    "meat_stats_meat_production_clean = meat_stats_meat_production_clean.groupby('Date')['Production'].sum()\n",
    "\n",
    "print(meat_stats_meat_production_clean)"
   ]
  },
  {
   "cell_type": "code",
   "execution_count": 22,
   "id": "e7ef1c46-044c-4a6d-9cbd-cac191401153",
   "metadata": {},
   "outputs": [
    {
     "name": "stdout",
     "output_type": "stream",
     "text": [
      "<class 'pandas.core.series.Series'>\n",
      "Index: 276 entries, Apr-2001 to Sep-2023\n",
      "Series name: Production\n",
      "Non-Null Count  Dtype  \n",
      "--------------  -----  \n",
      "276 non-null    float64\n",
      "dtypes: float64(1)\n",
      "memory usage: 4.3+ KB\n",
      "None\n"
     ]
    }
   ],
   "source": [
    "print(meat_stats_meat_production_clean.info())"
   ]
  },
  {
   "cell_type": "code",
   "execution_count": 23,
   "id": "525a284d-74c3-4b89-9a37-3c8b76b4d83e",
   "metadata": {},
   "outputs": [
    {
     "name": "stdout",
     "output_type": "stream",
     "text": [
      "Date\n",
      "Apr-2004    1964.16\n",
      "Apr-2005    1997.78\n",
      "Apr-2006    2196.89\n",
      "Apr-2007    1877.52\n",
      "Apr-2008    2283.46\n",
      "             ...   \n",
      "Sep-2019    2549.93\n",
      "Sep-2020    2348.98\n",
      "Sep-2021    2008.75\n",
      "Sep-2022    2323.11\n",
      "Sep-2023    2141.54\n",
      "Name: Weight, Length: 247, dtype: float64\n",
      "Date\n",
      "Apr-2001     9984.9\n",
      "Apr-2002    11000.5\n",
      "Apr-2003    10888.2\n",
      "Apr-2004    10709.7\n",
      "Apr-2005    10561.0\n",
      "             ...   \n",
      "Sep-2019    13073.2\n",
      "Sep-2020    13762.0\n",
      "Sep-2021    13556.4\n",
      "Sep-2022    13777.1\n",
      "Sep-2023    12994.7\n",
      "Name: Production, Length: 276, dtype: float64\n"
     ]
    }
   ],
   "source": [
    "print(meat_stats_cold_storage_clean)\n",
    "\n",
    "print(meat_stats_meat_production_clean)"
   ]
  },
  {
   "cell_type": "code",
   "execution_count": 24,
   "id": "491d025f-a9de-4e4d-b1e8-1dfc5ae575fa",
   "metadata": {},
   "outputs": [],
   "source": [
    "df_cold_storage = meat_stats_cold_storage_clean.reset_index()\n",
    "df_cold_storage.columns = ['Date', 'Weight']\n",
    "\n",
    "df_meat_production = meat_stats_meat_production_clean.reset_index()\n",
    "df_meat_production.columns = ['Date', 'Production']\n",
    "\n",
    "cold_storage_dates = set(df_cold_storage['Date'])\n",
    "meat_production_dates = set(df_meat_production['Date'])\n",
    "common_dates = cold_storage_dates.intersection(meat_production_dates)\n",
    "\n",
    "filtered_df_cold_storage = df_cold_storage[df_cold_storage['Date'].isin(common_dates)]\n",
    "filtered_df_meat_production = df_meat_production[df_meat_production['Date'].isin(common_dates)]"
   ]
  },
  {
   "cell_type": "code",
   "execution_count": 25,
   "id": "9f949bab-2297-4f4c-9583-47b34ede56de",
   "metadata": {},
   "outputs": [
    {
     "name": "stdout",
     "output_type": "stream",
     "text": [
      "         Date   Weight\n",
      "0    Apr-2004  1964.16\n",
      "1    Apr-2005  1997.78\n",
      "2    Apr-2006  2196.89\n",
      "3    Apr-2007  1877.52\n",
      "4    Apr-2008  2283.46\n",
      "..        ...      ...\n",
      "242  Sep-2019  2549.93\n",
      "243  Sep-2020  2348.98\n",
      "244  Sep-2021  2008.75\n",
      "245  Sep-2022  2323.11\n",
      "246  Sep-2023  2141.54\n",
      "\n",
      "[247 rows x 2 columns]\n",
      "         Date  Production\n",
      "3    Apr-2004     10709.7\n",
      "4    Apr-2005     10561.0\n",
      "5    Apr-2006     10493.3\n",
      "6    Apr-2007     10871.3\n",
      "7    Apr-2008     12281.1\n",
      "..        ...         ...\n",
      "271  Sep-2019     13073.2\n",
      "272  Sep-2020     13762.0\n",
      "273  Sep-2021     13556.4\n",
      "274  Sep-2022     13777.1\n",
      "275  Sep-2023     12994.7\n",
      "\n",
      "[247 rows x 2 columns]\n"
     ]
    }
   ],
   "source": [
    "print(filtered_df_cold_storage)\n",
    "print(filtered_df_meat_production)"
   ]
  },
  {
   "cell_type": "code",
   "execution_count": 26,
   "id": "041025d0-f3d6-49cb-804b-e909d8b24c0c",
   "metadata": {},
   "outputs": [],
   "source": [
    "# We will assume there is 35% loss for the food\n",
    "\n",
    "# So, consumed = (1 - 0.35) * (produced - stored)\n",
    "\n",
    "# or consumed = 0.65*(produced - stored)"
   ]
  },
  {
   "cell_type": "code",
   "execution_count": 27,
   "id": "f0a9e772-7357-43e7-9938-57dd48b5d699",
   "metadata": {},
   "outputs": [],
   "source": [
    "merged_df = pd.merge(filtered_df_cold_storage, filtered_df_meat_production, on='Date')\n",
    "\n",
    "merged_df['Consumption'] = (merged_df['Production'] - merged_df['Weight'])*0.65\n",
    "\n",
    "consumption_df = merged_df[['Date', 'Consumption']]"
   ]
  },
  {
   "cell_type": "code",
   "execution_count": 28,
   "id": "1dc41015-3d18-4e64-b65f-68c134f55c79",
   "metadata": {},
   "outputs": [
    {
     "name": "stdout",
     "output_type": "stream",
     "text": [
      "         Date  Consumption\n",
      "0    Apr-2004    5684.6010\n",
      "1    Apr-2005    5566.0930\n",
      "2    Apr-2006    5392.6665\n",
      "3    Apr-2007    5845.9570\n",
      "4    Apr-2008    6498.4660\n",
      "..        ...          ...\n",
      "242  Sep-2019    6840.1255\n",
      "243  Sep-2020    7418.4630\n",
      "244  Sep-2021    7505.9725\n",
      "245  Sep-2022    7445.0935\n",
      "246  Sep-2023    7054.5540\n",
      "\n",
      "[247 rows x 2 columns]\n"
     ]
    }
   ],
   "source": [
    "print(consumption_df)"
   ]
  }
 ],
 "metadata": {
  "kernelspec": {
   "display_name": "Python 3 (ipykernel)",
   "language": "python",
   "name": "python3"
  },
  "language_info": {
   "codemirror_mode": {
    "name": "ipython",
    "version": 3
   },
   "file_extension": ".py",
   "mimetype": "text/x-python",
   "name": "python",
   "nbconvert_exporter": "python",
   "pygments_lexer": "ipython3",
   "version": "3.11.9"
  }
 },
 "nbformat": 4,
 "nbformat_minor": 5
}

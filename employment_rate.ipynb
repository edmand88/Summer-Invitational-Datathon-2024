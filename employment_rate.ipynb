{
 "cells": [
  {
   "cell_type": "code",
   "execution_count": 1,
   "id": "45f5d8ff-bb04-403d-b897-6969d1a1999f",
   "metadata": {},
   "outputs": [],
   "source": [
    "import numpy as np\n",
    "import pandas as pd\n",
    "import matplotlib.pyplot as plt\n",
    "\n",
    "np.random.seed(42)"
   ]
  },
  {
   "cell_type": "code",
   "execution_count": 2,
   "id": "555fdd95-d75b-43bf-a562-4d2a1f5e5e05",
   "metadata": {},
   "outputs": [
    {
     "name": "stdout",
     "output_type": "stream",
     "text": [
      "         Date  Consumption            Unit\n",
      "0    Apr-2004          NaN  Million Pounds\n",
      "1    Apr-2005  2716.779276  Million Pounds\n",
      "2    Apr-2006  2656.600413  Million Pounds\n",
      "3    Apr-2007  2887.953160  Million Pounds\n",
      "4    Apr-2008  3064.598085  Million Pounds\n",
      "..        ...          ...             ...\n",
      "242  Sep-2019  3395.771512  Million Pounds\n",
      "243  Sep-2020  3603.389751  Million Pounds\n",
      "244  Sep-2021  3586.274685  Million Pounds\n",
      "245  Sep-2022  3474.301586  Million Pounds\n",
      "246  Sep-2023  3400.372863  Million Pounds\n",
      "\n",
      "[247 rows x 3 columns]\n"
     ]
    }
   ],
   "source": [
    "meat_consumption = pd.read_csv(\"Meat_Consumption.csv\")\n",
    "\n",
    "print(meat_consumption)"
   ]
  },
  {
   "cell_type": "code",
   "execution_count": 3,
   "id": "4c03911a-7f14-4a05-b968-e3347a433d17",
   "metadata": {},
   "outputs": [
    {
     "name": "stdout",
     "output_type": "stream",
     "text": [
      "                              Label (Grouping)  \\\n",
      "0                            EMPLOYMENT STATUS   \n",
      "1                 Population 16 years and over   \n",
      "2                               In labor force   \n",
      "3                         Civilian labor force   \n",
      "4                                     Employed   \n",
      "...                                        ...   \n",
      "98015                        18 years and over   \n",
      "98016                           18 to 64 years   \n",
      "98017                        65 years and over   \n",
      "98018                       People in families   \n",
      "98019  Unrelated individuals 15 years and over   \n",
      "\n",
      "                                                Category        State  \\\n",
      "0                                                 Header      Alabama   \n",
      "1                                      EMPLOYMENT STATUS      Alabama   \n",
      "2                                      EMPLOYMENT STATUS      Alabama   \n",
      "3                                      EMPLOYMENT STATUS      Alabama   \n",
      "4                                      EMPLOYMENT STATUS      Alabama   \n",
      "...                                                  ...          ...   \n",
      "98015  PERCENTAGE OF FAMILIES AND PEOPLE WHOSE INCOME...  Puerto Rico   \n",
      "98016  PERCENTAGE OF FAMILIES AND PEOPLE WHOSE INCOME...  Puerto Rico   \n",
      "98017  PERCENTAGE OF FAMILIES AND PEOPLE WHOSE INCOME...  Puerto Rico   \n",
      "98018  PERCENTAGE OF FAMILIES AND PEOPLE WHOSE INCOME...  Puerto Rico   \n",
      "98019  PERCENTAGE OF FAMILIES AND PEOPLE WHOSE INCOME...  Puerto Rico   \n",
      "\n",
      "        Estimate Margin of Error    Percent Percent Margin of Error  Year  \n",
      "0            NaN             NaN        NaN                     NaN  2010  \n",
      "1      3,714,504          ±1,588  3,714,504                     (X)  2010  \n",
      "2      2,246,848          ±5,576      60.5%                    ±0.1  2010  \n",
      "3      2,230,879          ±5,531      60.1%                    ±0.1  2010  \n",
      "4      2,036,867          ±5,904      54.8%                    ±0.2  2010  \n",
      "...          ...             ...        ...                     ...   ...  \n",
      "98015        (X)             (X)      39.7%                    ±0.4  2021  \n",
      "98016        (X)             (X)      40.1%                    ±0.4  2021  \n",
      "98017        (X)             (X)      38.5%                    ±0.5  2021  \n",
      "98018        (X)             (X)      40.0%                    ±0.4  2021  \n",
      "98019        (X)             (X)      55.3%                    ±0.4  2021  \n",
      "\n",
      "[98020 rows x 8 columns]\n"
     ]
    }
   ],
   "source": [
    "survey = pd.read_csv(\"Datathon Data/acs_5yr_est_selected_economic_characteristics_2010-2022.csv\")\n",
    "\n",
    "print(survey)"
   ]
  },
  {
   "cell_type": "code",
   "execution_count": 4,
   "id": "2c87501b-5c35-4f56-85a8-d64debaa95ba",
   "metadata": {},
   "outputs": [
    {
     "name": "stdout",
     "output_type": "stream",
     "text": [
      "<class 'pandas.core.frame.DataFrame'>\n",
      "RangeIndex: 98020 entries, 0 to 98019\n",
      "Data columns (total 8 columns):\n",
      " #   Column                   Non-Null Count  Dtype \n",
      "---  ------                   --------------  ----- \n",
      " 0   Label (Grouping)         98020 non-null  object\n",
      " 1   Category                 98020 non-null  object\n",
      " 2   State                    98020 non-null  object\n",
      " 3   Estimate                 92612 non-null  object\n",
      " 4   Margin of Error          92612 non-null  object\n",
      " 5   Percent                  92612 non-null  object\n",
      " 6   Percent Margin of Error  92612 non-null  object\n",
      " 7   Year                     98020 non-null  int64 \n",
      "dtypes: int64(1), object(7)\n",
      "memory usage: 6.0+ MB\n",
      "None\n"
     ]
    }
   ],
   "source": [
    "print(survey.info())"
   ]
  },
  {
   "cell_type": "code",
   "execution_count": 5,
   "id": "65307bda-a0df-4b15-a165-26ee21e94874",
   "metadata": {},
   "outputs": [
    {
     "name": "stdout",
     "output_type": "stream",
     "text": [
      "['EMPLOYMENT STATUS' 'Population 16 years and over'\n",
      " '\\xa0\\xa0\\xa0\\xa0In labor force'\n",
      " '\\xa0\\xa0\\xa0\\xa0\\xa0\\xa0\\xa0\\xa0Civilian labor force'\n",
      " '\\xa0\\xa0\\xa0\\xa0\\xa0\\xa0\\xa0\\xa0\\xa0\\xa0\\xa0\\xa0Employed'\n",
      " '\\xa0\\xa0\\xa0\\xa0\\xa0\\xa0\\xa0\\xa0\\xa0\\xa0\\xa0\\xa0Unemployed'\n",
      " '\\xa0\\xa0\\xa0\\xa0\\xa0\\xa0\\xa0\\xa0Armed Forces'\n",
      " '\\xa0\\xa0\\xa0\\xa0Not in labor force'\n",
      " '\\xa0\\xa0\\xa0\\xa0Civilian labor force'\n",
      " '\\xa0\\xa0\\xa0\\xa0Percent Unemployed' 'Females 16 years and over'\n",
      " 'Own children under 6 years'\n",
      " '\\xa0\\xa0\\xa0\\xa0All parents in family in labor force'\n",
      " 'Own children 6 to 17 years' 'COMMUTING TO WORK'\n",
      " 'Workers 16 years and over'\n",
      " '\\xa0\\xa0\\xa0\\xa0Car, truck, or van -- drove alone'\n",
      " '\\xa0\\xa0\\xa0\\xa0Car, truck, or van -- carpooled'\n",
      " '\\xa0\\xa0\\xa0\\xa0Public transportation (excluding taxicab)'\n",
      " '\\xa0\\xa0\\xa0\\xa0Walked' '\\xa0\\xa0\\xa0\\xa0Other means'\n",
      " '\\xa0\\xa0\\xa0\\xa0Worked at home'\n",
      " '\\xa0\\xa0\\xa0\\xa0Mean travel time to work (minutes)' 'OCCUPATION'\n",
      " 'Civilian employed population 16 years and over'\n",
      " '\\xa0\\xa0\\xa0\\xa0Management, business, science, and arts occupations'\n",
      " '\\xa0\\xa0\\xa0\\xa0Service occupations'\n",
      " '\\xa0\\xa0\\xa0\\xa0Sales and office occupations'\n",
      " '\\xa0\\xa0\\xa0\\xa0Natural resources, construction, and maintenance occupations'\n",
      " '\\xa0\\xa0\\xa0\\xa0Production, transportation, and material moving occupations'\n",
      " 'INDUSTRY'\n",
      " '\\xa0\\xa0\\xa0\\xa0Agriculture, forestry, fishing and hunting, and mining'\n",
      " '\\xa0\\xa0\\xa0\\xa0Construction' '\\xa0\\xa0\\xa0\\xa0Manufacturing'\n",
      " '\\xa0\\xa0\\xa0\\xa0Wholesale trade' '\\xa0\\xa0\\xa0\\xa0Retail trade'\n",
      " '\\xa0\\xa0\\xa0\\xa0Transportation and warehousing, and utilities'\n",
      " '\\xa0\\xa0\\xa0\\xa0Information'\n",
      " '\\xa0\\xa0\\xa0\\xa0Finance and insurance, and real estate and rental and leasing'\n",
      " '\\xa0\\xa0\\xa0\\xa0Professional, scientific, and management, and administrative and waste management services'\n",
      " '\\xa0\\xa0\\xa0\\xa0Educational services, and health care and social assistance'\n",
      " '\\xa0\\xa0\\xa0\\xa0Arts, entertainment, and recreation, and accommodation and food services'\n",
      " '\\xa0\\xa0\\xa0\\xa0Other services, except public administration'\n",
      " '\\xa0\\xa0\\xa0\\xa0Public administration' 'CLASS OF WORKER'\n",
      " '\\xa0\\xa0\\xa0\\xa0Private wage and salary workers'\n",
      " '\\xa0\\xa0\\xa0\\xa0Government workers'\n",
      " '\\xa0\\xa0\\xa0\\xa0Self-employed in own not incorporated business workers'\n",
      " '\\xa0\\xa0\\xa0\\xa0Unpaid family workers'\n",
      " 'INCOME AND BENEFITS (IN 2010 INFLATION-ADJUSTED DOLLARS)'\n",
      " '\\xa0\\xa0\\xa0\\xa0Total households' 'Less than $10,000'\n",
      " '$10,000 to $14,999' '$15,000 to $24,999' '$25,000 to $34,999'\n",
      " '$35,000 to $49,999' '$50,000 to $74,999' '$75,000 to $99,999'\n",
      " '$100,000 to $149,999' '$150,000 to $199,999' '$200,000 or more'\n",
      " '\\xa0\\xa0\\xa0\\xa0Median household income (dollars)'\n",
      " '\\xa0\\xa0\\xa0\\xa0Mean household income (dollars)'\n",
      " '\\xa0\\xa0\\xa0\\xa0With earnings'\n",
      " '\\xa0\\xa0\\xa0\\xa0\\xa0\\xa0\\xa0\\xa0Mean earnings (dollars)'\n",
      " '\\xa0\\xa0\\xa0\\xa0With Social Security'\n",
      " '\\xa0\\xa0\\xa0\\xa0\\xa0\\xa0\\xa0\\xa0Mean Social Security income (dollars)'\n",
      " '\\xa0\\xa0\\xa0\\xa0With retirement income'\n",
      " '\\xa0\\xa0\\xa0\\xa0\\xa0\\xa0\\xa0\\xa0Mean retirement income (dollars)'\n",
      " '\\xa0\\xa0\\xa0\\xa0With Supplemental Security Income'\n",
      " '\\xa0\\xa0\\xa0\\xa0\\xa0\\xa0\\xa0\\xa0Mean Supplemental Security Income (dollars)'\n",
      " '\\xa0\\xa0\\xa0\\xa0With cash public assistance income'\n",
      " '\\xa0\\xa0\\xa0\\xa0\\xa0\\xa0\\xa0\\xa0Mean cash public assistance income (dollars)'\n",
      " 'With Food Stamp/SNAP benefits in the past 12 months'\n",
      " '\\xa0\\xa0\\xa0\\xa0Families'\n",
      " '\\xa0\\xa0\\xa0\\xa0Median family income (dollars)'\n",
      " '\\xa0\\xa0\\xa0\\xa0Mean family income (dollars)'\n",
      " '\\xa0\\xa0\\xa0\\xa0Per capita income (dollars)'\n",
      " '\\xa0\\xa0\\xa0\\xa0Nonfamily households'\n",
      " '\\xa0\\xa0\\xa0\\xa0Median nonfamily income (dollars)'\n",
      " '\\xa0\\xa0\\xa0\\xa0Mean nonfamily income (dollars)'\n",
      " '\\xa0\\xa0\\xa0\\xa0Median earnings for workers (dollars)'\n",
      " '\\xa0\\xa0\\xa0\\xa0Median earnings for male full-time, year-round workers (dollars)'\n",
      " '\\xa0\\xa0\\xa0\\xa0Median earnings for female full-time, year-round workers (dollars)'\n",
      " 'HEALTH INSURANCE COVERAGE'\n",
      " '\\xa0\\xa0\\xa0\\xa0Civilian noninstitutionalized population'\n",
      " '\\xa0\\xa0\\xa0\\xa0With health insurance coverage'\n",
      " '\\xa0\\xa0\\xa0\\xa0\\xa0\\xa0\\xa0\\xa0With private health insurance'\n",
      " '\\xa0\\xa0\\xa0\\xa0\\xa0\\xa0\\xa0\\xa0With public coverage'\n",
      " '\\xa0\\xa0\\xa0\\xa0No health insurance coverage'\n",
      " 'Civilian noninstitutionalized population under 18 years'\n",
      " 'Civilian noninstitutionalized population 18 to 64 years'\n",
      " '\\xa0\\xa0\\xa0\\xa0In labor force:'\n",
      " '\\xa0\\xa0\\xa0\\xa0\\xa0\\xa0\\xa0\\xa0Employed:'\n",
      " '\\xa0\\xa0\\xa0\\xa0\\xa0\\xa0\\xa0\\xa0\\xa0\\xa0\\xa0\\xa0With health insurance coverage'\n",
      " '\\xa0\\xa0\\xa0\\xa0\\xa0\\xa0\\xa0\\xa0\\xa0\\xa0\\xa0\\xa0\\xa0\\xa0\\xa0\\xa0With private health insurance'\n",
      " '\\xa0\\xa0\\xa0\\xa0\\xa0\\xa0\\xa0\\xa0\\xa0\\xa0\\xa0\\xa0\\xa0\\xa0\\xa0\\xa0With public coverage'\n",
      " '\\xa0\\xa0\\xa0\\xa0\\xa0\\xa0\\xa0\\xa0\\xa0\\xa0\\xa0\\xa0No health insurance coverage'\n",
      " '\\xa0\\xa0\\xa0\\xa0\\xa0\\xa0\\xa0\\xa0Unemployed:'\n",
      " '\\xa0\\xa0\\xa0\\xa0Not in labor force:'\n",
      " '\\xa0\\xa0\\xa0\\xa0\\xa0\\xa0\\xa0\\xa0With health insurance coverage'\n",
      " '\\xa0\\xa0\\xa0\\xa0\\xa0\\xa0\\xa0\\xa0\\xa0\\xa0\\xa0\\xa0With private health insurance'\n",
      " '\\xa0\\xa0\\xa0\\xa0\\xa0\\xa0\\xa0\\xa0\\xa0\\xa0\\xa0\\xa0With public coverage'\n",
      " '\\xa0\\xa0\\xa0\\xa0\\xa0\\xa0\\xa0\\xa0No health insurance coverage'\n",
      " 'PERCENTAGE OF FAMILIES AND PEOPLE WHOSE INCOME IN THE PAST 12 MONTHS IS BELOW THE POVERTY LEVEL'\n",
      " '\\xa0\\xa0\\xa0\\xa0All families' 'With related children under 18 years'\n",
      " 'With related children under 5 years only'\n",
      " '\\xa0\\xa0\\xa0\\xa0Married couple families'\n",
      " '\\xa0\\xa0\\xa0\\xa0Families with female householder, no husband present'\n",
      " '\\xa0\\xa0\\xa0\\xa0All people' 'Under 18 years'\n",
      " 'Related children under 18 years' 'Related children under 5 years'\n",
      " 'Related children 5 to 17 years' '18 years and over' '18 to 64 years'\n",
      " '65 years and over' '\\xa0\\xa0\\xa0\\xa0People in families'\n",
      " 'Unrelated individuals 15 years and over'\n",
      " 'INCOME AND BENEFITS (IN 2011 INFLATION-ADJUSTED DOLLARS)'\n",
      " '\\xa0\\xa0\\xa0\\xa0\\xa0\\xa0\\xa0\\xa0In labor force'\n",
      " '\\xa0\\xa0\\xa0\\xa0\\xa0\\xa0\\xa0\\xa0\\xa0\\xa0\\xa0\\xa0Civilian labor force'\n",
      " '\\xa0\\xa0\\xa0\\xa0\\xa0\\xa0\\xa0\\xa0\\xa0\\xa0\\xa0\\xa0\\xa0\\xa0\\xa0\\xa0Employed'\n",
      " '\\xa0\\xa0\\xa0\\xa0\\xa0\\xa0\\xa0\\xa0\\xa0\\xa0\\xa0\\xa0\\xa0\\xa0\\xa0\\xa0Unemployed'\n",
      " '\\xa0\\xa0\\xa0\\xa0\\xa0\\xa0\\xa0\\xa0\\xa0\\xa0\\xa0\\xa0Armed Forces'\n",
      " '\\xa0\\xa0\\xa0\\xa0\\xa0\\xa0\\xa0\\xa0Not in labor force'\n",
      " '\\xa0\\xa0\\xa0\\xa0\\xa0\\xa0\\xa0\\xa0Percent Unemployed'\n",
      " '\\xa0\\xa0\\xa0\\xa0\\xa0\\xa0\\xa0\\xa0All parents in family in labor force'\n",
      " '\\xa0\\xa0\\xa0\\xa0\\xa0\\xa0\\xa0\\xa0Car, truck, or van -- drove alone'\n",
      " '\\xa0\\xa0\\xa0\\xa0\\xa0\\xa0\\xa0\\xa0Car, truck, or van -- carpooled'\n",
      " '\\xa0\\xa0\\xa0\\xa0\\xa0\\xa0\\xa0\\xa0Public transportation (excluding taxicab)'\n",
      " '\\xa0\\xa0\\xa0\\xa0\\xa0\\xa0\\xa0\\xa0Walked'\n",
      " '\\xa0\\xa0\\xa0\\xa0\\xa0\\xa0\\xa0\\xa0Other means'\n",
      " '\\xa0\\xa0\\xa0\\xa0\\xa0\\xa0\\xa0\\xa0Worked at home'\n",
      " '\\xa0\\xa0\\xa0\\xa0\\xa0\\xa0\\xa0\\xa0Management, business, science, and arts occupations'\n",
      " '\\xa0\\xa0\\xa0\\xa0\\xa0\\xa0\\xa0\\xa0Service occupations'\n",
      " '\\xa0\\xa0\\xa0\\xa0\\xa0\\xa0\\xa0\\xa0Sales and office occupations'\n",
      " '\\xa0\\xa0\\xa0\\xa0\\xa0\\xa0\\xa0\\xa0Natural resources, construction, and maintenance occupations'\n",
      " '\\xa0\\xa0\\xa0\\xa0\\xa0\\xa0\\xa0\\xa0Production, transportation, and material moving occupations'\n",
      " '\\xa0\\xa0\\xa0\\xa0\\xa0\\xa0\\xa0\\xa0Agriculture, forestry, fishing and hunting, and mining'\n",
      " '\\xa0\\xa0\\xa0\\xa0\\xa0\\xa0\\xa0\\xa0Construction'\n",
      " '\\xa0\\xa0\\xa0\\xa0\\xa0\\xa0\\xa0\\xa0Manufacturing'\n",
      " '\\xa0\\xa0\\xa0\\xa0\\xa0\\xa0\\xa0\\xa0Wholesale trade'\n",
      " '\\xa0\\xa0\\xa0\\xa0\\xa0\\xa0\\xa0\\xa0Retail trade'\n",
      " '\\xa0\\xa0\\xa0\\xa0\\xa0\\xa0\\xa0\\xa0Transportation and warehousing, and utilities'\n",
      " '\\xa0\\xa0\\xa0\\xa0\\xa0\\xa0\\xa0\\xa0Information'\n",
      " '\\xa0\\xa0\\xa0\\xa0\\xa0\\xa0\\xa0\\xa0Finance and insurance, and real estate and rental and leasing'\n",
      " '\\xa0\\xa0\\xa0\\xa0\\xa0\\xa0\\xa0\\xa0Professional, scientific, and management, and administrative and waste management services'\n",
      " '\\xa0\\xa0\\xa0\\xa0\\xa0\\xa0\\xa0\\xa0Educational services, and health care and social assistance'\n",
      " '\\xa0\\xa0\\xa0\\xa0\\xa0\\xa0\\xa0\\xa0Arts, entertainment, and recreation, and accommodation and food services'\n",
      " '\\xa0\\xa0\\xa0\\xa0\\xa0\\xa0\\xa0\\xa0Other services, except public administration'\n",
      " '\\xa0\\xa0\\xa0\\xa0\\xa0\\xa0\\xa0\\xa0Public administration'\n",
      " '\\xa0\\xa0\\xa0\\xa0\\xa0\\xa0\\xa0\\xa0Private wage and salary workers'\n",
      " '\\xa0\\xa0\\xa0\\xa0\\xa0\\xa0\\xa0\\xa0Government workers'\n",
      " '\\xa0\\xa0\\xa0\\xa0\\xa0\\xa0\\xa0\\xa0Self-employed in own not incorporated business workers'\n",
      " '\\xa0\\xa0\\xa0\\xa0\\xa0\\xa0\\xa0\\xa0Unpaid family workers'\n",
      " 'INCOME AND BENEFITS (IN 2013 INFLATION-ADJUSTED DOLLARS)'\n",
      " '\\xa0\\xa0\\xa0\\xa0\\xa0\\xa0\\xa0\\xa0Median household income (dollars)'\n",
      " '\\xa0\\xa0\\xa0\\xa0\\xa0\\xa0\\xa0\\xa0Mean household income (dollars)'\n",
      " '\\xa0\\xa0\\xa0\\xa0\\xa0\\xa0\\xa0\\xa0Median family income (dollars)'\n",
      " '\\xa0\\xa0\\xa0\\xa0\\xa0\\xa0\\xa0\\xa0Mean family income (dollars)'\n",
      " '\\xa0\\xa0\\xa0\\xa0\\xa0\\xa0\\xa0\\xa0Median nonfamily income (dollars)'\n",
      " '\\xa0\\xa0\\xa0\\xa0\\xa0\\xa0\\xa0\\xa0Mean nonfamily income (dollars)'\n",
      " '\\xa0\\xa0\\xa0\\xa0\\xa0\\xa0\\xa0\\xa0In labor force:'\n",
      " '\\xa0\\xa0\\xa0\\xa0\\xa0\\xa0\\xa0\\xa0\\xa0\\xa0\\xa0\\xa0Employed:'\n",
      " '\\xa0\\xa0\\xa0\\xa0\\xa0\\xa0\\xa0\\xa0\\xa0\\xa0\\xa0\\xa0\\xa0\\xa0\\xa0\\xa0With health insurance coverage'\n",
      " '\\xa0\\xa0\\xa0\\xa0\\xa0\\xa0\\xa0\\xa0\\xa0\\xa0\\xa0\\xa0\\xa0\\xa0\\xa0\\xa0\\xa0\\xa0\\xa0\\xa0With private health insurance'\n",
      " '\\xa0\\xa0\\xa0\\xa0\\xa0\\xa0\\xa0\\xa0\\xa0\\xa0\\xa0\\xa0\\xa0\\xa0\\xa0\\xa0\\xa0\\xa0\\xa0\\xa0With public coverage'\n",
      " '\\xa0\\xa0\\xa0\\xa0\\xa0\\xa0\\xa0\\xa0\\xa0\\xa0\\xa0\\xa0\\xa0\\xa0\\xa0\\xa0No health insurance coverage'\n",
      " '\\xa0\\xa0\\xa0\\xa0\\xa0\\xa0\\xa0\\xa0\\xa0\\xa0\\xa0\\xa0Unemployed:'\n",
      " '\\xa0\\xa0\\xa0\\xa0\\xa0\\xa0\\xa0\\xa0Not in labor force:'\n",
      " '\\xa0\\xa0\\xa0\\xa0\\xa0\\xa0\\xa0\\xa0People in families'\n",
      " 'INCOME AND BENEFITS (IN 2012 INFLATION-ADJUSTED DOLLARS)'\n",
      " '\\xa0\\xa0\\xa0\\xa0\\xa0\\xa0\\xa0\\xa0Unemployment Rate'\n",
      " 'Own children of the householder under 6 years'\n",
      " 'Own children of the householder 6 to 17 years'\n",
      " 'INCOME AND BENEFITS (IN 2016 INFLATION-ADJUSTED DOLLARS)'\n",
      " 'With related children of the householder under 18 years'\n",
      " 'With related children of the householder under 5 years only'\n",
      " 'Related children of the householder under 18 years'\n",
      " 'Related children of the householder under 5 years'\n",
      " 'Related children of the householder 5 to 17 years'\n",
      " '\\xa0\\xa0\\xa0\\xa0\\xa0\\xa0\\xa0\\xa0Mean travel time to work (minutes)'\n",
      " 'INCOME AND BENEFITS (IN 2017 INFLATION-ADJUSTED DOLLARS)'\n",
      " '\\xa0\\xa0\\xa0\\xa0\\xa0\\xa0\\xa0\\xa0With earnings'\n",
      " '\\xa0\\xa0\\xa0\\xa0\\xa0\\xa0\\xa0\\xa0\\xa0\\xa0\\xa0\\xa0Mean earnings (dollars)'\n",
      " '\\xa0\\xa0\\xa0\\xa0\\xa0\\xa0\\xa0\\xa0With Social Security'\n",
      " '\\xa0\\xa0\\xa0\\xa0\\xa0\\xa0\\xa0\\xa0\\xa0\\xa0\\xa0\\xa0Mean Social Security income (dollars)'\n",
      " '\\xa0\\xa0\\xa0\\xa0\\xa0\\xa0\\xa0\\xa0With retirement income'\n",
      " '\\xa0\\xa0\\xa0\\xa0\\xa0\\xa0\\xa0\\xa0\\xa0\\xa0\\xa0\\xa0Mean retirement income (dollars)'\n",
      " '\\xa0\\xa0\\xa0\\xa0\\xa0\\xa0\\xa0\\xa0With Supplemental Security Income'\n",
      " '\\xa0\\xa0\\xa0\\xa0\\xa0\\xa0\\xa0\\xa0\\xa0\\xa0\\xa0\\xa0Mean Supplemental Security Income (dollars)'\n",
      " '\\xa0\\xa0\\xa0\\xa0\\xa0\\xa0\\xa0\\xa0With cash public assistance income'\n",
      " '\\xa0\\xa0\\xa0\\xa0\\xa0\\xa0\\xa0\\xa0\\xa0\\xa0\\xa0\\xa0Mean cash public assistance income (dollars)'\n",
      " '\\xa0\\xa0\\xa0\\xa0\\xa0\\xa0\\xa0\\xa0Per capita income (dollars)'\n",
      " 'Civilian noninstitutionalized population under 19 years'\n",
      " 'Civilian noninstitutionalized population 19 to 64 years'\n",
      " 'INCOME AND BENEFITS (IN 2015 INFLATION-ADJUSTED DOLLARS)'\n",
      " 'INCOME AND BENEFITS (IN 2014 INFLATION-ADJUSTED DOLLARS)'\n",
      " '\\xa0\\xa0\\xa0\\xa0\\xa0\\xa0\\xa0\\xa0Worked from home'\n",
      " 'INCOME AND BENEFITS (IN 2019 INFLATION-ADJUSTED DOLLARS)'\n",
      " '\\xa0\\xa0\\xa0\\xa0\\xa0\\xa0\\xa0\\xa0Married couple families'\n",
      " '\\xa0\\xa0\\xa0\\xa0\\xa0\\xa0\\xa0\\xa0Families with female householder, no spouse present'\n",
      " 'INCOME AND BENEFITS (IN 2018 INFLATION-ADJUSTED DOLLARS)'\n",
      " 'INCOME AND BENEFITS (IN 2022 INFLATION-ADJUSTED DOLLARS)'\n",
      " 'INCOME AND BENEFITS (IN 2020 INFLATION-ADJUSTED DOLLARS)'\n",
      " 'INCOME AND BENEFITS (IN 2021 INFLATION-ADJUSTED DOLLARS)']\n"
     ]
    }
   ],
   "source": [
    "label_values = survey['Label (Grouping)'].unique()\n",
    "print(label_values)"
   ]
  },
  {
   "cell_type": "code",
   "execution_count": 6,
   "id": "a050188e-39bc-4f90-b9ca-3634f8cc46e4",
   "metadata": {
    "scrolled": true
   },
   "outputs": [],
   "source": [
    "mask = survey['Estimate'] != '(X)'\n",
    "\n",
    "survey.loc[mask, 'Estimate'] = survey.loc[mask, 'Estimate'].str.replace(',', '')\n",
    "survey.loc[mask, 'Estimate'] = survey.loc[mask, 'Estimate'].replace(r'[^\\d.]', '', regex=True)\n",
    "\n",
    "survey['Estimate'] = pd.to_numeric(survey['Estimate'], errors='coerce')"
   ]
  },
  {
   "cell_type": "code",
   "execution_count": 7,
   "id": "fecdcfc5-4e0b-42d0-8f93-b8c62816eb48",
   "metadata": {},
   "outputs": [
    {
     "name": "stdout",
     "output_type": "stream",
     "text": [
      "['HEALTH INSURANCE COVERAGE']\n"
     ]
    }
   ],
   "source": [
    "categories = survey[survey['Label (Grouping)'] == '\\xa0\\xa0\\xa0\\xa0\\xa0\\xa0\\xa0\\xa0Employed:']['Category'].unique()\n",
    "print(categories)"
   ]
  },
  {
   "cell_type": "code",
   "execution_count": 8,
   "id": "9b4cf283-b839-411b-b788-3294c8f73fd8",
   "metadata": {},
   "outputs": [
    {
     "name": "stdout",
     "output_type": "stream",
     "text": [
      "['OCCUPATION' 'INDUSTRY' 'CLASS OF WORKER']\n"
     ]
    }
   ],
   "source": [
    "categories2 = survey[survey['Label (Grouping)'] == 'Civilian employed population 16 years and over']['Category'].unique()\n",
    "print(categories2)"
   ]
  },
  {
   "cell_type": "code",
   "execution_count": 9,
   "id": "f97bf82f-4b50-4973-afab-c92a1778ed1c",
   "metadata": {},
   "outputs": [
    {
     "name": "stdout",
     "output_type": "stream",
     "text": [
      "['CLASS OF WORKER']\n"
     ]
    }
   ],
   "source": [
    "categories3 = survey[survey['Label (Grouping)'] == '\\xa0\\xa0\\xa0\\xa0Self-employed in own not incorporated business workers']['Category'].unique()\n",
    "print(categories3)"
   ]
  },
  {
   "cell_type": "code",
   "execution_count": 10,
   "id": "6b007eab-6f1d-49b4-a44f-d72418ed64c1",
   "metadata": {},
   "outputs": [
    {
     "name": "stdout",
     "output_type": "stream",
     "text": [
      "['CLASS OF WORKER']\n"
     ]
    }
   ],
   "source": [
    "categories5 = survey[survey['Label (Grouping)'] == '\\xa0\\xa0\\xa0\\xa0\\xa0\\xa0\\xa0\\xa0Self-employed in own not incorporated business workers']['Category'].unique()\n",
    "print(categories5)"
   ]
  },
  {
   "cell_type": "code",
   "execution_count": 11,
   "id": "4e19072a-fd3c-444c-b3cb-07cd03235bc0",
   "metadata": {},
   "outputs": [
    {
     "name": "stdout",
     "output_type": "stream",
     "text": [
      "['HEALTH INSURANCE COVERAGE']\n"
     ]
    }
   ],
   "source": [
    "categories6 = survey[survey['Label (Grouping)'] == '\\xa0\\xa0\\xa0\\xa0\\xa0\\xa0\\xa0\\xa0\\xa0\\xa0\\xa0\\xa0Employed:']['Category'].unique()\n",
    "print(categories6)"
   ]
  },
  {
   "cell_type": "code",
   "execution_count": 12,
   "id": "1cad832a-7124-43ab-84db-f388c3f92cfc",
   "metadata": {},
   "outputs": [
    {
     "name": "stdout",
     "output_type": "stream",
     "text": [
      "312\n"
     ]
    }
   ],
   "source": [
    "employed_data_count = survey[(survey['Label (Grouping)'] == '\\xa0\\xa0\\xa0\\xa0\\xa0\\xa0\\xa0\\xa0\\xa0\\xa0\\xa0\\xa0Employed') & (survey['Category'] == 'EMPLOYMENT STATUS')]['Estimate'].notna().sum()\n",
    "print(employed_data_count)"
   ]
  },
  {
   "cell_type": "code",
   "execution_count": 13,
   "id": "73b7d25e-10a1-4e34-91ab-ed7aef98cbba",
   "metadata": {},
   "outputs": [
    {
     "name": "stdout",
     "output_type": "stream",
     "text": [
      "           Label (Grouping)           Category      State   Estimate  \\\n",
      "4                  Employed  EMPLOYMENT STATUS    Alabama  2036867.0   \n",
      "7544               Employed  EMPLOYMENT STATUS    Alabama  2027919.0   \n",
      "22624              Employed  EMPLOYMENT STATUS    Alabama  2017887.0   \n",
      "149                Employed  EMPLOYMENT STATUS     Alaska   332126.0   \n",
      "7689               Employed  EMPLOYMENT STATUS     Alaska   336026.0   \n",
      "...                     ...                ...        ...        ...   \n",
      "14649              Employed  EMPLOYMENT STATUS  Wisconsin  2859925.0   \n",
      "29729              Employed  EMPLOYMENT STATUS  Wisconsin  2856318.0   \n",
      "7254               Employed  EMPLOYMENT STATUS    Wyoming   284148.0   \n",
      "14794              Employed  EMPLOYMENT STATUS    Wyoming   287634.0   \n",
      "29874              Employed  EMPLOYMENT STATUS    Wyoming   288847.0   \n",
      "\n",
      "      Margin of Error Percent Percent Margin of Error  Year  \n",
      "4              ±5,904   54.8%                    ±0.2  2010  \n",
      "7544           ±7,620   54.1%                    ±0.2  2011  \n",
      "22624          ±6,610   53.4%                    ±0.2  2012  \n",
      "149            ±2,150   62.9%                    ±0.4  2010  \n",
      "7689           ±2,127   62.6%                    ±0.4  2011  \n",
      "...               ...     ...                     ...   ...  \n",
      "14649          ±6,870   63.7%                    ±0.1  2011  \n",
      "29729          ±5,990   63.3%                    ±0.1  2012  \n",
      "7254           ±1,824   66.2%                    ±0.4  2010  \n",
      "14794          ±1,769   66.0%                    ±0.4  2011  \n",
      "29874          ±1,811   65.3%                    ±0.4  2012  \n",
      "\n",
      "[156 rows x 8 columns]\n"
     ]
    }
   ],
   "source": [
    "employed_data = survey[(survey['Label (Grouping)'] == '\\xa0\\xa0\\xa0\\xa0\\xa0\\xa0\\xa0\\xa0\\xa0\\xa0\\xa0\\xa0Employed') & (survey['Category'] == 'EMPLOYMENT STATUS')]\n",
    "\n",
    "idx = employed_data.groupby(['State', 'Year'])['Estimate'].idxmax()\n",
    "\n",
    "employed_data = employed_data.loc[idx]\n",
    "\n",
    "print(employed_data)"
   ]
  },
  {
   "cell_type": "code",
   "execution_count": 14,
   "id": "67c529a1-97bd-40ce-be90-7aaa12b4002c",
   "metadata": {
    "scrolled": true
   },
   "outputs": [
    {
     "name": "stdout",
     "output_type": "stream",
     "text": [
      "           State  Year   Estimate\n",
      "4        Alabama  2010  2036867.0\n",
      "7544     Alabama  2011  2027919.0\n",
      "22624    Alabama  2012  2017887.0\n",
      "149       Alaska  2010   332126.0\n",
      "7689      Alaska  2011   336026.0\n",
      "...          ...   ...        ...\n",
      "14649  Wisconsin  2011  2859925.0\n",
      "29729  Wisconsin  2012  2856318.0\n",
      "7254     Wyoming  2010   284148.0\n",
      "14794    Wyoming  2011   287634.0\n",
      "29874    Wyoming  2012   288847.0\n",
      "\n",
      "[156 rows x 3 columns]\n"
     ]
    }
   ],
   "source": [
    "employed_data_estimate = employed_data[['State', 'Year', 'Estimate']]\n",
    "print(employed_data_estimate)"
   ]
  },
  {
   "cell_type": "code",
   "execution_count": 15,
   "id": "24ed18c7-c4a4-4efd-b9a8-546fafa05cbc",
   "metadata": {},
   "outputs": [
    {
     "name": "stdout",
     "output_type": "stream",
     "text": [
      "[2010 2011 2012]\n"
     ]
    }
   ],
   "source": [
    "employed_data = survey[survey['Label (Grouping)'] == '\\xa0\\xa0\\xa0\\xa0\\xa0\\xa0\\xa0\\xa0\\xa0\\xa0\\xa0\\xa0Employed']\n",
    "unique_years = employed_data['Year'].unique()\n",
    "\n",
    "print(unique_years)"
   ]
  },
  {
   "cell_type": "code",
   "execution_count": 16,
   "id": "ee0efddf-f2da-4e57-9860-e16bc219fc7d",
   "metadata": {},
   "outputs": [
    {
     "name": "stdout",
     "output_type": "stream",
     "text": [
      "52\n"
     ]
    }
   ],
   "source": [
    "state_count = len(survey['State'].unique())\n",
    "print(state_count)"
   ]
  },
  {
   "cell_type": "code",
   "execution_count": 17,
   "id": "f0d2fdbb-13b7-4e0c-80cc-fbd2afdfcb44",
   "metadata": {},
   "outputs": [
    {
     "name": "stdout",
     "output_type": "stream",
     "text": [
      "['EMPLOYMENT STATUS']\n"
     ]
    }
   ],
   "source": [
    "categories4 = survey[survey['Label (Grouping)'] == '\\xa0\\xa0\\xa0\\xa0\\xa0\\xa0\\xa0\\xa0\\xa0\\xa0\\xa0\\xa0\\xa0\\xa0\\xa0\\xa0Employed']['Category'].unique()\n",
    "print(categories4)"
   ]
  },
  {
   "cell_type": "code",
   "execution_count": 18,
   "id": "b76a75b6-684f-48e8-bc2d-5c664c537468",
   "metadata": {},
   "outputs": [
    {
     "name": "stdout",
     "output_type": "stream",
     "text": [
      "1040\n"
     ]
    }
   ],
   "source": [
    "employed_data_count2 = survey[(survey['Label (Grouping)'] == '\\xa0\\xa0\\xa0\\xa0\\xa0\\xa0\\xa0\\xa0\\xa0\\xa0\\xa0\\xa0\\xa0\\xa0\\xa0\\xa0Employed') & (survey['Category'] == 'EMPLOYMENT STATUS')]['Estimate'].notna().sum()\n",
    "print(employed_data_count2)"
   ]
  },
  {
   "cell_type": "code",
   "execution_count": 19,
   "id": "a31dbf0e-4b12-4e4d-8003-8f0cb310a3ef",
   "metadata": {},
   "outputs": [
    {
     "name": "stdout",
     "output_type": "stream",
     "text": [
      "               Label (Grouping)           Category    State   Estimate  \\\n",
      "15084                  Employed  EMPLOYMENT STATUS  Alabama  2002163.0   \n",
      "52784                  Employed  EMPLOYMENT STATUS  Alabama  2010453.0   \n",
      "45244                  Employed  EMPLOYMENT STATUS  Alabama  2022325.0   \n",
      "30164                  Employed  EMPLOYMENT STATUS  Alabama  2042025.0   \n",
      "37704                  Employed  EMPLOYMENT STATUS  Alabama  2055509.0   \n",
      "...                         ...                ...      ...        ...   \n",
      "75114                  Employed  EMPLOYMENT STATUS  Wyoming   290963.0   \n",
      "67574                  Employed  EMPLOYMENT STATUS  Wyoming   288503.0   \n",
      "90194                  Employed  EMPLOYMENT STATUS  Wyoming   287375.0   \n",
      "97734                  Employed  EMPLOYMENT STATUS  Wyoming   284934.0   \n",
      "82654                  Employed  EMPLOYMENT STATUS  Wyoming   287895.0   \n",
      "\n",
      "      Margin of Error Percent Percent Margin of Error  Year  \n",
      "15084          ±6,337   52.6%                    ±0.2  2013  \n",
      "52784          ±6,237   52.5%                    ±0.2  2014  \n",
      "45244          ±6,345   52.6%                    ±0.2  2015  \n",
      "30164          ±7,394   52.8%                    ±0.2  2016  \n",
      "37704          ±6,783   53.0%                    ±0.2  2017  \n",
      "...               ...     ...                     ...   ...  \n",
      "75114          ±2,021   63.4%                    ±0.4  2018  \n",
      "67574          ±2,006   62.8%                    ±0.4  2019  \n",
      "90194          ±2,514   62.3%                    ±0.5  2020  \n",
      "97734          ±2,179   62.3%                    ±0.5  2021  \n",
      "82654          ±1,956   62.5%                    ±0.4  2022  \n",
      "\n",
      "[520 rows x 8 columns]\n"
     ]
    }
   ],
   "source": [
    "employed_data2 = survey[(survey['Label (Grouping)'] == '\\xa0\\xa0\\xa0\\xa0\\xa0\\xa0\\xa0\\xa0\\xa0\\xa0\\xa0\\xa0\\xa0\\xa0\\xa0\\xa0Employed') & (survey['Category'] == 'EMPLOYMENT STATUS')]\n",
    "\n",
    "idx2 = employed_data2.groupby(['State', 'Year'])['Estimate'].idxmax()\n",
    "\n",
    "employed_data2 = employed_data2.loc[idx2]\n",
    "\n",
    "print(employed_data2)"
   ]
  },
  {
   "cell_type": "code",
   "execution_count": 20,
   "id": "06c8d80c-64cc-4e37-8cf3-a06b3cc4ea35",
   "metadata": {},
   "outputs": [
    {
     "name": "stdout",
     "output_type": "stream",
     "text": [
      "         State  Year   Estimate\n",
      "15084  Alabama  2013  2002163.0\n",
      "52784  Alabama  2014  2010453.0\n",
      "45244  Alabama  2015  2022325.0\n",
      "30164  Alabama  2016  2042025.0\n",
      "37704  Alabama  2017  2055509.0\n",
      "...        ...   ...        ...\n",
      "75114  Wyoming  2018   290963.0\n",
      "67574  Wyoming  2019   288503.0\n",
      "90194  Wyoming  2020   287375.0\n",
      "97734  Wyoming  2021   284934.0\n",
      "82654  Wyoming  2022   287895.0\n",
      "\n",
      "[520 rows x 3 columns]\n"
     ]
    }
   ],
   "source": [
    "employed_data_estimate2 = employed_data2[['State', 'Year', 'Estimate']]\n",
    "print(employed_data_estimate2)"
   ]
  },
  {
   "cell_type": "code",
   "execution_count": 21,
   "id": "403ea4e5-75c8-4511-9821-6a62a8f2104a",
   "metadata": {},
   "outputs": [
    {
     "name": "stdout",
     "output_type": "stream",
     "text": [
      "[2013 2016 2017 2015 2014 2019 2018 2022 2020 2021]\n"
     ]
    }
   ],
   "source": [
    "employed_data2 = survey[survey['Label (Grouping)'] == '\\xa0\\xa0\\xa0\\xa0\\xa0\\xa0\\xa0\\xa0\\xa0\\xa0\\xa0\\xa0\\xa0\\xa0\\xa0\\xa0Employed']\n",
    "unique_years2 = employed_data2['Year'].unique()\n",
    "\n",
    "print(unique_years2)"
   ]
  },
  {
   "cell_type": "code",
   "execution_count": 22,
   "id": "4d950641-f7ad-479c-a9ac-69f946225f95",
   "metadata": {},
   "outputs": [
    {
     "name": "stdout",
     "output_type": "stream",
     "text": [
      "           State  Year   Estimate\n",
      "4        Alabama  2010  2036867.0\n",
      "7544     Alabama  2011  2027919.0\n",
      "22624    Alabama  2012  2017887.0\n",
      "149       Alaska  2010   332126.0\n",
      "7689      Alaska  2011   336026.0\n",
      "...          ...   ...        ...\n",
      "14649  Wisconsin  2011  2859925.0\n",
      "29729  Wisconsin  2012  2856318.0\n",
      "7254     Wyoming  2010   284148.0\n",
      "14794    Wyoming  2011   287634.0\n",
      "29874    Wyoming  2012   288847.0\n",
      "\n",
      "[156 rows x 3 columns]\n",
      "         State  Year   Estimate\n",
      "15084  Alabama  2013  2002163.0\n",
      "52784  Alabama  2014  2010453.0\n",
      "45244  Alabama  2015  2022325.0\n",
      "30164  Alabama  2016  2042025.0\n",
      "37704  Alabama  2017  2055509.0\n",
      "...        ...   ...        ...\n",
      "75114  Wyoming  2018   290963.0\n",
      "67574  Wyoming  2019   288503.0\n",
      "90194  Wyoming  2020   287375.0\n",
      "97734  Wyoming  2021   284934.0\n",
      "82654  Wyoming  2022   287895.0\n",
      "\n",
      "[520 rows x 3 columns]\n"
     ]
    }
   ],
   "source": [
    "print(employed_data_estimate)\n",
    "print(employed_data_estimate2)"
   ]
  },
  {
   "cell_type": "code",
   "execution_count": 23,
   "id": "128fb267-e744-43dd-ade3-e1c32477d55b",
   "metadata": {},
   "outputs": [
    {
     "name": "stdout",
     "output_type": "stream",
     "text": [
      "       State  Year   Estimate\n",
      "0    Alabama  2010  2036867.0\n",
      "1    Alabama  2011  2027919.0\n",
      "2    Alabama  2012  2017887.0\n",
      "3     Alaska  2010   332126.0\n",
      "4     Alaska  2011   336026.0\n",
      "..       ...   ...        ...\n",
      "671  Wyoming  2018   290963.0\n",
      "672  Wyoming  2019   288503.0\n",
      "673  Wyoming  2020   287375.0\n",
      "674  Wyoming  2021   284934.0\n",
      "675  Wyoming  2022   287895.0\n",
      "\n",
      "[676 rows x 3 columns]\n"
     ]
    }
   ],
   "source": [
    "combined_employed_data = pd.concat([employed_data_estimate, employed_data_estimate2], axis=0, ignore_index=True)\n",
    "print(combined_employed_data)"
   ]
  },
  {
   "cell_type": "code",
   "execution_count": 24,
   "id": "3911394f-cbad-452e-b0ae-26ec82a6a680",
   "metadata": {},
   "outputs": [
    {
     "name": "stdout",
     "output_type": "stream",
     "text": [
      "    Year  Total Employed\n",
      "0   2010     142982762.0\n",
      "1   2011     142967563.0\n",
      "2   2012     143117976.0\n",
      "3   2013     142963835.0\n",
      "4   2014     144516379.0\n",
      "5   2015     146811129.0\n",
      "6   2016     149056432.0\n",
      "7   2017     151639301.0\n",
      "8   2018     153768384.0\n",
      "9   2019     155870698.0\n",
      "10  2020     156915360.0\n",
      "11  2021     158566825.0\n",
      "12  2022     159994534.0\n"
     ]
    }
   ],
   "source": [
    "total_employed_by_year = combined_employed_data.groupby('Year')['Estimate'].sum().reset_index()\n",
    "total_employed_by_year.columns = ['Year', 'Total Employed']\n",
    "\n",
    "print(total_employed_by_year)"
   ]
  },
  {
   "cell_type": "code",
   "execution_count": 25,
   "id": "886cdae6-b45c-4fe6-9e91-966f8a7005a0",
   "metadata": {},
   "outputs": [
    {
     "name": "stdout",
     "output_type": "stream",
     "text": [
      "676\n"
     ]
    }
   ],
   "source": [
    "labor_force_count = survey[(survey['Label (Grouping)'] == '\\xa0\\xa0\\xa0\\xa0Civilian labor force') & (survey['Category'] == 'EMPLOYMENT STATUS')]['Estimate'].notna().sum()\n",
    "print(labor_force_count)"
   ]
  },
  {
   "cell_type": "code",
   "execution_count": 26,
   "id": "56ade7b7-13b5-4af1-b274-88a52ed32bf5",
   "metadata": {},
   "outputs": [
    {
     "name": "stdout",
     "output_type": "stream",
     "text": [
      "    Year  Total Civilian labor force\n",
      "0   2010                 155417951.0\n",
      "1   2011                 156693638.0\n",
      "2   2012                 157896851.0\n",
      "3   2013                 158460848.0\n",
      "4   2014                 159263968.0\n",
      "5   2015                 160196946.0\n",
      "6   2016                 161089085.0\n",
      "7   2017                 162420203.0\n",
      "8   2018                 163486646.0\n",
      "9   2019                 164781032.0\n",
      "10  2020                 165968047.0\n",
      "11  2021                 167908608.0\n",
      "12  2022                 169104234.0\n"
     ]
    }
   ],
   "source": [
    "labor_force_data = survey[(survey['Label (Grouping)'] == '\\xa0\\xa0\\xa0\\xa0Civilian labor force') & (survey['Category'] == 'EMPLOYMENT STATUS')]\n",
    "\n",
    "labor_force_data = labor_force_data.groupby('Year')['Estimate'].sum()\n",
    "labor_force_data = labor_force_data.reset_index()\n",
    "labor_force_data.columns = ['Year', 'Total Civilian labor force']\n",
    "\n",
    "print(labor_force_data)"
   ]
  },
  {
   "cell_type": "code",
   "execution_count": 27,
   "id": "48127f82-c700-4f23-ad7d-e83503fcb103",
   "metadata": {},
   "outputs": [
    {
     "name": "stdout",
     "output_type": "stream",
     "text": [
      "    Year  Total Employed  Total Civilian labor force  Employment Rate\n",
      "0   2010     142982762.0                 155417951.0         0.919989\n",
      "1   2011     142967563.0                 156693638.0         0.912402\n",
      "2   2012     143117976.0                 157896851.0         0.906402\n",
      "3   2013     142963835.0                 158460848.0         0.902203\n",
      "4   2014     144516379.0                 159263968.0         0.907402\n",
      "5   2015     146811129.0                 160196946.0         0.916441\n",
      "6   2016     149056432.0                 161089085.0         0.925304\n",
      "7   2017     151639301.0                 162420203.0         0.933623\n",
      "8   2018     153768384.0                 163486646.0         0.940556\n",
      "9   2019     155870698.0                 164781032.0         0.945926\n",
      "10  2020     156915360.0                 165968047.0         0.945455\n",
      "11  2021     158566825.0                 167908608.0         0.944364\n",
      "12  2022     159994534.0                 169104234.0         0.946130\n"
     ]
    }
   ],
   "source": [
    "merged_df = pd.merge(total_employed_by_year, labor_force_data, on='Year')\n",
    "merged_df['Employment Rate'] = (merged_df['Total Employed']/merged_df['Total Civilian labor force'])\n",
    "\n",
    "print(merged_df)"
   ]
  },
  {
   "cell_type": "code",
   "execution_count": 28,
   "id": "d787118d-80f4-4a7b-81a4-e2d189ea6da2",
   "metadata": {},
   "outputs": [
    {
     "name": "stdout",
     "output_type": "stream",
     "text": [
      "    Year  Employment Rate\n",
      "0   2010         0.919989\n",
      "1   2011         0.912402\n",
      "2   2012         0.906402\n",
      "3   2013         0.902203\n",
      "4   2014         0.907402\n",
      "5   2015         0.916441\n",
      "6   2016         0.925304\n",
      "7   2017         0.933623\n",
      "8   2018         0.940556\n",
      "9   2019         0.945926\n",
      "10  2020         0.945455\n",
      "11  2021         0.944364\n",
      "12  2022         0.946130\n"
     ]
    }
   ],
   "source": [
    "employment_rate = merged_df[['Year', 'Employment Rate']] \n",
    "print(employment_rate)"
   ]
  },
  {
   "cell_type": "code",
   "execution_count": 29,
   "id": "95531e79-7df5-4be3-99d5-9bf4bac9d3b2",
   "metadata": {},
   "outputs": [],
   "source": [
    "employment_rate.to_csv('Employment_Rate.csv', index=False)"
   ]
  }
 ],
 "metadata": {
  "kernelspec": {
   "display_name": "Python 3 (ipykernel)",
   "language": "python",
   "name": "python3"
  },
  "language_info": {
   "codemirror_mode": {
    "name": "ipython",
    "version": 3
   },
   "file_extension": ".py",
   "mimetype": "text/x-python",
   "name": "python",
   "nbconvert_exporter": "python",
   "pygments_lexer": "ipython3",
   "version": "3.11.9"
  }
 },
 "nbformat": 4,
 "nbformat_minor": 5
}
